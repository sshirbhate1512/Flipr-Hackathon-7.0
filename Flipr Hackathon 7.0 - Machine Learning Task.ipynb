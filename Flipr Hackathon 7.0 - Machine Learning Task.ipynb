{
 "cells": [
  {
   "cell_type": "code",
   "execution_count": 1,
   "metadata": {},
   "outputs": [],
   "source": [
    "#####Loading the library\n",
    "\n",
    "import pandas as pd \n",
    "import statsmodels.api as sm"
   ]
  },
  {
   "cell_type": "markdown",
   "metadata": {},
   "source": [
    "### Loading the Data set"
   ]
  },
  {
   "cell_type": "code",
   "execution_count": 46,
   "metadata": {},
   "outputs": [],
   "source": [
    "train_data=pd.read_excel(r\"C:\\Users\\HP\\Downloads\\Data.xlsx\")"
   ]
  },
  {
   "cell_type": "code",
   "execution_count": 87,
   "metadata": {},
   "outputs": [
    {
     "data": {
      "text/html": [
       "<div>\n",
       "<style scoped>\n",
       "    .dataframe tbody tr th:only-of-type {\n",
       "        vertical-align: middle;\n",
       "    }\n",
       "\n",
       "    .dataframe tbody tr th {\n",
       "        vertical-align: top;\n",
       "    }\n",
       "\n",
       "    .dataframe thead th {\n",
       "        text-align: right;\n",
       "    }\n",
       "</style>\n",
       "<table border=\"1\" class=\"dataframe\">\n",
       "  <thead>\n",
       "    <tr style=\"text-align: right;\">\n",
       "      <th></th>\n",
       "      <th>PLAYER</th>\n",
       "      <th>Mat</th>\n",
       "      <th>Inns</th>\n",
       "      <th>NO</th>\n",
       "      <th>2018_Runs</th>\n",
       "      <th>HS</th>\n",
       "      <th>Avg</th>\n",
       "      <th>BF</th>\n",
       "      <th>SR</th>\n",
       "      <th>100</th>\n",
       "      <th>50</th>\n",
       "      <th>4s</th>\n",
       "      <th>6s</th>\n",
       "      <th>2019_Runs</th>\n",
       "    </tr>\n",
       "  </thead>\n",
       "  <tbody>\n",
       "    <tr>\n",
       "      <th>0</th>\n",
       "      <td>Aaron Finch</td>\n",
       "      <td>10</td>\n",
       "      <td>9</td>\n",
       "      <td>1</td>\n",
       "      <td>134</td>\n",
       "      <td>46</td>\n",
       "      <td>16.75</td>\n",
       "      <td>100</td>\n",
       "      <td>134.00</td>\n",
       "      <td>0</td>\n",
       "      <td>0</td>\n",
       "      <td>6</td>\n",
       "      <td>8</td>\n",
       "      <td>160</td>\n",
       "    </tr>\n",
       "    <tr>\n",
       "      <th>1</th>\n",
       "      <td>AB de Villiers</td>\n",
       "      <td>12</td>\n",
       "      <td>11</td>\n",
       "      <td>2</td>\n",
       "      <td>480</td>\n",
       "      <td>90</td>\n",
       "      <td>53.33</td>\n",
       "      <td>275</td>\n",
       "      <td>174.54</td>\n",
       "      <td>0</td>\n",
       "      <td>6</td>\n",
       "      <td>39</td>\n",
       "      <td>30</td>\n",
       "      <td>424</td>\n",
       "    </tr>\n",
       "    <tr>\n",
       "      <th>2</th>\n",
       "      <td>Abhishek Sharma</td>\n",
       "      <td>3</td>\n",
       "      <td>3</td>\n",
       "      <td>2</td>\n",
       "      <td>63</td>\n",
       "      <td>46</td>\n",
       "      <td>63.00</td>\n",
       "      <td>33</td>\n",
       "      <td>190.90</td>\n",
       "      <td>0</td>\n",
       "      <td>0</td>\n",
       "      <td>3</td>\n",
       "      <td>5</td>\n",
       "      <td>63</td>\n",
       "    </tr>\n",
       "    <tr>\n",
       "      <th>3</th>\n",
       "      <td>Ajinkya Rahane</td>\n",
       "      <td>15</td>\n",
       "      <td>14</td>\n",
       "      <td>1</td>\n",
       "      <td>370</td>\n",
       "      <td>65</td>\n",
       "      <td>28.46</td>\n",
       "      <td>313</td>\n",
       "      <td>118.21</td>\n",
       "      <td>0</td>\n",
       "      <td>1</td>\n",
       "      <td>39</td>\n",
       "      <td>5</td>\n",
       "      <td>396</td>\n",
       "    </tr>\n",
       "    <tr>\n",
       "      <th>4</th>\n",
       "      <td>Alex Hales</td>\n",
       "      <td>6</td>\n",
       "      <td>6</td>\n",
       "      <td>0</td>\n",
       "      <td>148</td>\n",
       "      <td>45</td>\n",
       "      <td>24.66</td>\n",
       "      <td>118</td>\n",
       "      <td>125.42</td>\n",
       "      <td>0</td>\n",
       "      <td>0</td>\n",
       "      <td>13</td>\n",
       "      <td>6</td>\n",
       "      <td>165</td>\n",
       "    </tr>\n",
       "  </tbody>\n",
       "</table>\n",
       "</div>"
      ],
      "text/plain": [
       "            PLAYER  Mat  Inns  NO  2018_Runs  HS    Avg   BF      SR  100  50  \\\n",
       "0      Aaron Finch   10     9   1        134  46  16.75  100  134.00    0   0   \n",
       "1   AB de Villiers   12    11   2        480  90  53.33  275  174.54    0   6   \n",
       "2  Abhishek Sharma    3     3   2         63  46  63.00   33  190.90    0   0   \n",
       "3   Ajinkya Rahane   15    14   1        370  65  28.46  313  118.21    0   1   \n",
       "4       Alex Hales    6     6   0        148  45  24.66  118  125.42    0   0   \n",
       "\n",
       "   4s  6s  2019_Runs  \n",
       "0   6   8        160  \n",
       "1  39  30        424  \n",
       "2   3   5         63  \n",
       "3  39   5        396  \n",
       "4  13   6        165  "
      ]
     },
     "execution_count": 87,
     "metadata": {},
     "output_type": "execute_result"
    }
   ],
   "source": [
    "train_data.head()"
   ]
  },
  {
   "cell_type": "code",
   "execution_count": 49,
   "metadata": {},
   "outputs": [
    {
     "data": {
      "text/plain": [
       "PLAYER        object\n",
       "Mat            int64\n",
       "Inns           int64\n",
       "NO             int64\n",
       "2018_Runs      int64\n",
       "HS            object\n",
       "Avg           object\n",
       "BF             int64\n",
       "SR           float64\n",
       "100            int64\n",
       "50             int64\n",
       "4s             int64\n",
       "6s             int64\n",
       "2019_Runs      int64\n",
       "dtype: object"
      ]
     },
     "execution_count": 49,
     "metadata": {},
     "output_type": "execute_result"
    }
   ],
   "source": [
    "train_data.dtypes"
   ]
  },
  {
   "cell_type": "markdown",
   "metadata": {},
   "source": [
    "#### converting the object datatype in readable format"
   ]
  },
  {
   "cell_type": "code",
   "execution_count": 51,
   "metadata": {},
   "outputs": [
    {
     "name": "stderr",
     "output_type": "stream",
     "text": [
      "C:\\Users\\HP\\anaconda3\\lib\\site-packages\\ipykernel_launcher.py:4: SettingWithCopyWarning: \n",
      "A value is trying to be set on a copy of a slice from a DataFrame\n",
      "\n",
      "See the caveats in the documentation: https://pandas.pydata.org/pandas-docs/stable/user_guide/indexing.html#returning-a-view-versus-a-copy\n",
      "  after removing the cwd from sys.path.\n"
     ]
    }
   ],
   "source": [
    "j=0\n",
    "for i in train_data[\"Avg\"]:\n",
    "    if i=='-':\n",
    "        train_data[\"Avg\"][j]=0\n",
    "    j=j+1\n",
    "        "
   ]
  },
  {
   "cell_type": "code",
   "execution_count": 53,
   "metadata": {},
   "outputs": [],
   "source": [
    "train_data[\"Avg\"]=train_data[\"Avg\"].astype(str).astype(float)"
   ]
  },
  {
   "cell_type": "code",
   "execution_count": 81,
   "metadata": {},
   "outputs": [
    {
     "name": "stderr",
     "output_type": "stream",
     "text": [
      "C:\\Users\\HP\\anaconda3\\lib\\site-packages\\ipykernel_launcher.py:3: SettingWithCopyWarning: \n",
      "A value is trying to be set on a copy of a slice from a DataFrame\n",
      "\n",
      "See the caveats in the documentation: https://pandas.pydata.org/pandas-docs/stable/user_guide/indexing.html#returning-a-view-versus-a-copy\n",
      "  This is separate from the ipykernel package so we can avoid doing imports until\n"
     ]
    }
   ],
   "source": [
    "j=0\n",
    "for i in train_data[\"HS\"]:\n",
    "    train_data[\"HS\"][j]=re.findall('\\d+',str(i))[0]\n",
    "    j=j+1"
   ]
  },
  {
   "cell_type": "code",
   "execution_count": 82,
   "metadata": {},
   "outputs": [],
   "source": [
    "train_data[\"HS\"]=train_data[\"HS\"].astype(str).astype(int)"
   ]
  },
  {
   "cell_type": "code",
   "execution_count": 83,
   "metadata": {},
   "outputs": [
    {
     "data": {
      "text/plain": [
       "PLAYER        object\n",
       "Mat            int64\n",
       "Inns           int64\n",
       "NO             int64\n",
       "2018_Runs      int64\n",
       "HS             int32\n",
       "Avg          float64\n",
       "BF             int64\n",
       "SR           float64\n",
       "100            int64\n",
       "50             int64\n",
       "4s             int64\n",
       "6s             int64\n",
       "2019_Runs      int64\n",
       "dtype: object"
      ]
     },
     "execution_count": 83,
     "metadata": {},
     "output_type": "execute_result"
    }
   ],
   "source": [
    "train_data.dtypes"
   ]
  },
  {
   "cell_type": "markdown",
   "metadata": {},
   "source": [
    "#### Seperating the Data set into X and Y"
   ]
  },
  {
   "cell_type": "code",
   "execution_count": 118,
   "metadata": {},
   "outputs": [],
   "source": [
    "X=np.array(train_data[[\"SR\",\"2018_Runs\",\"Avg\",\"HS\",\"BF\",\"NO\",100,50,\"4s\",\"6s\",\"Inns\",\"Mat\"]])\n",
    "Y=np.array(train_data[\"2019_Runs\"])"
   ]
  },
  {
   "cell_type": "markdown",
   "metadata": {},
   "source": [
    "#### Using the OLS (linear regression model)\n",
    "Training"
   ]
  },
  {
   "cell_type": "code",
   "execution_count": 119,
   "metadata": {},
   "outputs": [],
   "source": [
    "model = sm.OLS(Y, X).fit()"
   ]
  },
  {
   "cell_type": "code",
   "execution_count": 120,
   "metadata": {},
   "outputs": [
    {
     "data": {
      "text/html": [
       "<table class=\"simpletable\">\n",
       "<caption>OLS Regression Results</caption>\n",
       "<tr>\n",
       "  <th>Dep. Variable:</th>            <td>y</td>        <th>  R-squared (uncentered):</th>      <td>   0.993</td>\n",
       "</tr>\n",
       "<tr>\n",
       "  <th>Model:</th>                   <td>OLS</td>       <th>  Adj. R-squared (uncentered):</th> <td>   0.992</td>\n",
       "</tr>\n",
       "<tr>\n",
       "  <th>Method:</th>             <td>Least Squares</td>  <th>  F-statistic:       </th>          <td>   1000.</td>\n",
       "</tr>\n",
       "<tr>\n",
       "  <th>Date:</th>             <td>Sun, 18 Oct 2020</td> <th>  Prob (F-statistic):</th>          <td>1.57e-88</td>\n",
       "</tr>\n",
       "<tr>\n",
       "  <th>Time:</th>                 <td>21:01:12</td>     <th>  Log-Likelihood:    </th>          <td> -448.84</td>\n",
       "</tr>\n",
       "<tr>\n",
       "  <th>No. Observations:</th>      <td>   100</td>      <th>  AIC:               </th>          <td>   921.7</td>\n",
       "</tr>\n",
       "<tr>\n",
       "  <th>Df Residuals:</th>          <td>    88</td>      <th>  BIC:               </th>          <td>   952.9</td>\n",
       "</tr>\n",
       "<tr>\n",
       "  <th>Df Model:</th>              <td>    12</td>      <th>                     </th>              <td> </td>   \n",
       "</tr>\n",
       "<tr>\n",
       "  <th>Covariance Type:</th>      <td>nonrobust</td>    <th>                     </th>              <td> </td>   \n",
       "</tr>\n",
       "</table>\n",
       "<table class=\"simpletable\">\n",
       "<tr>\n",
       "   <td></td>      <th>coef</th>     <th>std err</th>      <th>t</th>      <th>P>|t|</th>  <th>[0.025</th>    <th>0.975]</th>  \n",
       "</tr>\n",
       "<tr>\n",
       "  <th>x1</th>  <td>   -0.0890</td> <td>    0.068</td> <td>   -1.306</td> <td> 0.195</td> <td>   -0.225</td> <td>    0.046</td>\n",
       "</tr>\n",
       "<tr>\n",
       "  <th>x2</th>  <td>    0.8210</td> <td>    0.233</td> <td>    3.525</td> <td> 0.001</td> <td>    0.358</td> <td>    1.284</td>\n",
       "</tr>\n",
       "<tr>\n",
       "  <th>x3</th>  <td>   -0.1633</td> <td>    0.317</td> <td>   -0.516</td> <td> 0.607</td> <td>   -0.792</td> <td>    0.466</td>\n",
       "</tr>\n",
       "<tr>\n",
       "  <th>x4</th>  <td>    0.2937</td> <td>    0.208</td> <td>    1.415</td> <td> 0.161</td> <td>   -0.119</td> <td>    0.706</td>\n",
       "</tr>\n",
       "<tr>\n",
       "  <th>x5</th>  <td>    0.1866</td> <td>    0.207</td> <td>    0.901</td> <td> 0.370</td> <td>   -0.225</td> <td>    0.598</td>\n",
       "</tr>\n",
       "<tr>\n",
       "  <th>x6</th>  <td>   -2.2994</td> <td>    2.240</td> <td>   -1.027</td> <td> 0.307</td> <td>   -6.751</td> <td>    2.152</td>\n",
       "</tr>\n",
       "<tr>\n",
       "  <th>x7</th>  <td>  -25.3829</td> <td>   12.649</td> <td>   -2.007</td> <td> 0.048</td> <td>  -50.521</td> <td>   -0.245</td>\n",
       "</tr>\n",
       "<tr>\n",
       "  <th>x8</th>  <td>   -6.7333</td> <td>    4.292</td> <td>   -1.569</td> <td> 0.120</td> <td>  -15.262</td> <td>    1.796</td>\n",
       "</tr>\n",
       "<tr>\n",
       "  <th>x9</th>  <td>   -0.8964</td> <td>    0.777</td> <td>   -1.154</td> <td> 0.252</td> <td>   -2.440</td> <td>    0.647</td>\n",
       "</tr>\n",
       "<tr>\n",
       "  <th>x10</th> <td>    0.8252</td> <td>    1.198</td> <td>    0.689</td> <td> 0.493</td> <td>   -1.557</td> <td>    3.207</td>\n",
       "</tr>\n",
       "<tr>\n",
       "  <th>x11</th> <td>    4.5120</td> <td>    1.847</td> <td>    2.443</td> <td> 0.017</td> <td>    0.841</td> <td>    8.183</td>\n",
       "</tr>\n",
       "<tr>\n",
       "  <th>x12</th> <td>   -1.1730</td> <td>    1.090</td> <td>   -1.076</td> <td> 0.285</td> <td>   -3.339</td> <td>    0.993</td>\n",
       "</tr>\n",
       "</table>\n",
       "<table class=\"simpletable\">\n",
       "<tr>\n",
       "  <th>Omnibus:</th>       <td> 2.941</td> <th>  Durbin-Watson:     </th> <td>   2.240</td>\n",
       "</tr>\n",
       "<tr>\n",
       "  <th>Prob(Omnibus):</th> <td> 0.230</td> <th>  Jarque-Bera (JB):  </th> <td>   2.322</td>\n",
       "</tr>\n",
       "<tr>\n",
       "  <th>Skew:</th>          <td> 0.341</td> <th>  Prob(JB):          </th> <td>   0.313</td>\n",
       "</tr>\n",
       "<tr>\n",
       "  <th>Kurtosis:</th>      <td> 3.303</td> <th>  Cond. No.          </th> <td>1.92e+03</td>\n",
       "</tr>\n",
       "</table><br/><br/>Warnings:<br/>[1] Standard Errors assume that the covariance matrix of the errors is correctly specified.<br/>[2] The condition number is large, 1.92e+03. This might indicate that there are<br/>strong multicollinearity or other numerical problems."
      ],
      "text/plain": [
       "<class 'statsmodels.iolib.summary.Summary'>\n",
       "\"\"\"\n",
       "                                 OLS Regression Results                                \n",
       "=======================================================================================\n",
       "Dep. Variable:                      y   R-squared (uncentered):                   0.993\n",
       "Model:                            OLS   Adj. R-squared (uncentered):              0.992\n",
       "Method:                 Least Squares   F-statistic:                              1000.\n",
       "Date:                Sun, 18 Oct 2020   Prob (F-statistic):                    1.57e-88\n",
       "Time:                        21:01:12   Log-Likelihood:                         -448.84\n",
       "No. Observations:                 100   AIC:                                      921.7\n",
       "Df Residuals:                      88   BIC:                                      952.9\n",
       "Df Model:                          12                                                  \n",
       "Covariance Type:            nonrobust                                                  \n",
       "==============================================================================\n",
       "                 coef    std err          t      P>|t|      [0.025      0.975]\n",
       "------------------------------------------------------------------------------\n",
       "x1            -0.0890      0.068     -1.306      0.195      -0.225       0.046\n",
       "x2             0.8210      0.233      3.525      0.001       0.358       1.284\n",
       "x3            -0.1633      0.317     -0.516      0.607      -0.792       0.466\n",
       "x4             0.2937      0.208      1.415      0.161      -0.119       0.706\n",
       "x5             0.1866      0.207      0.901      0.370      -0.225       0.598\n",
       "x6            -2.2994      2.240     -1.027      0.307      -6.751       2.152\n",
       "x7           -25.3829     12.649     -2.007      0.048     -50.521      -0.245\n",
       "x8            -6.7333      4.292     -1.569      0.120     -15.262       1.796\n",
       "x9            -0.8964      0.777     -1.154      0.252      -2.440       0.647\n",
       "x10            0.8252      1.198      0.689      0.493      -1.557       3.207\n",
       "x11            4.5120      1.847      2.443      0.017       0.841       8.183\n",
       "x12           -1.1730      1.090     -1.076      0.285      -3.339       0.993\n",
       "==============================================================================\n",
       "Omnibus:                        2.941   Durbin-Watson:                   2.240\n",
       "Prob(Omnibus):                  0.230   Jarque-Bera (JB):                2.322\n",
       "Skew:                           0.341   Prob(JB):                        0.313\n",
       "Kurtosis:                       3.303   Cond. No.                     1.92e+03\n",
       "==============================================================================\n",
       "\n",
       "Warnings:\n",
       "[1] Standard Errors assume that the covariance matrix of the errors is correctly specified.\n",
       "[2] The condition number is large, 1.92e+03. This might indicate that there are\n",
       "strong multicollinearity or other numerical problems.\n",
       "\"\"\""
      ]
     },
     "execution_count": 120,
     "metadata": {},
     "output_type": "execute_result"
    }
   ],
   "source": [
    "model.summary()"
   ]
  },
  {
   "cell_type": "markdown",
   "metadata": {},
   "source": [
    "Prediction on Train Data set"
   ]
  },
  {
   "cell_type": "code",
   "execution_count": 121,
   "metadata": {},
   "outputs": [
    {
     "data": {
      "text/plain": [
       "array([155.31350526, 427.90964668,  50.96198134, 371.77958708,\n",
       "       154.87440496, 562.02799741, 337.14287824,  43.21276325,\n",
       "        93.184666  ,  95.88319382, 225.06507006,   5.89594832,\n",
       "       127.6503114 ,  81.9264365 , 341.93468387, 473.80584019,\n",
       "        32.70382964,  18.89227695, 140.11199885,  67.04730455,\n",
       "        25.50558923,  29.55403454, 130.42026368,  70.67295617,\n",
       "        43.92098271,  99.84610806, 461.14113378, 140.05887224,\n",
       "       388.13373635, 160.98499376,  93.42121738, 195.04354666,\n",
       "        23.7794684 , 266.5567899 ,  44.92061753,  58.46375476,\n",
       "       279.82023223, 131.88766786,  44.01170346,  27.40908943,\n",
       "       494.43942644,  32.13054638, 664.83110478, 303.52108132,\n",
       "        22.93847247, 140.90597853, 592.45284282, 136.48440386,\n",
       "       235.7289333 ,  15.30726986,  69.33919705, 269.28346767,\n",
       "       283.43538247,  52.13134749, 102.73200926, 142.02874953,\n",
       "        13.92960253,   1.35835769,  79.65677657,  10.29415513,\n",
       "        16.1624474 , 438.55085082, 321.70200059, 140.39200367,\n",
       "        30.88180105, 232.63519663, 204.30944138,  47.96898595,\n",
       "       240.94632516,  54.64259494, 115.06751667,  96.65509492,\n",
       "        34.55025146, 603.56975419, 375.21449111, 302.95483016,\n",
       "       119.72003068, 447.72759437,  54.35288155, 243.83403767,\n",
       "       509.73378227, -24.77905152, 462.59127013,  11.40048306,\n",
       "        47.97443203,  42.24461557, 408.91135044, 191.36275099,\n",
       "        52.58604055, 352.71913683, 417.12065222, 473.61768159,\n",
       "        47.94540186,  28.02400679, 206.88163114, 494.11944032,\n",
       "        62.74936834, 129.53447205, 268.91214572,  77.12125648])"
      ]
     },
     "execution_count": 121,
     "metadata": {},
     "output_type": "execute_result"
    }
   ],
   "source": [
    "model.predict(X)"
   ]
  },
  {
   "cell_type": "markdown",
   "metadata": {},
   "source": [
    "#### Loading the test Data set"
   ]
  },
  {
   "cell_type": "code",
   "execution_count": 149,
   "metadata": {},
   "outputs": [],
   "source": [
    "test_data=pd.read_excel(r\"C:\\Users\\HP\\Downloads\\Data (2).xlsx\")"
   ]
  },
  {
   "cell_type": "code",
   "execution_count": 150,
   "metadata": {},
   "outputs": [
    {
     "data": {
      "text/html": [
       "<div>\n",
       "<style scoped>\n",
       "    .dataframe tbody tr th:only-of-type {\n",
       "        vertical-align: middle;\n",
       "    }\n",
       "\n",
       "    .dataframe tbody tr th {\n",
       "        vertical-align: top;\n",
       "    }\n",
       "\n",
       "    .dataframe thead th {\n",
       "        text-align: right;\n",
       "    }\n",
       "</style>\n",
       "<table border=\"1\" class=\"dataframe\">\n",
       "  <thead>\n",
       "    <tr style=\"text-align: right;\">\n",
       "      <th></th>\n",
       "      <th>PLAYER</th>\n",
       "      <th>Mat</th>\n",
       "      <th>Inns</th>\n",
       "      <th>NO</th>\n",
       "      <th>2019_Runs</th>\n",
       "      <th>HS</th>\n",
       "      <th>Avg</th>\n",
       "      <th>BF</th>\n",
       "      <th>SR</th>\n",
       "      <th>100</th>\n",
       "      <th>50</th>\n",
       "      <th>4s</th>\n",
       "      <th>6s</th>\n",
       "    </tr>\n",
       "  </thead>\n",
       "  <tbody>\n",
       "    <tr>\n",
       "      <th>0</th>\n",
       "      <td>David Warner</td>\n",
       "      <td>12</td>\n",
       "      <td>12</td>\n",
       "      <td>2</td>\n",
       "      <td>692</td>\n",
       "      <td>100*</td>\n",
       "      <td>69.2</td>\n",
       "      <td>481</td>\n",
       "      <td>143.86</td>\n",
       "      <td>1</td>\n",
       "      <td>8</td>\n",
       "      <td>57</td>\n",
       "      <td>21</td>\n",
       "    </tr>\n",
       "    <tr>\n",
       "      <th>1</th>\n",
       "      <td>KL Rahul</td>\n",
       "      <td>14</td>\n",
       "      <td>14</td>\n",
       "      <td>3</td>\n",
       "      <td>593</td>\n",
       "      <td>100*</td>\n",
       "      <td>53.9</td>\n",
       "      <td>438</td>\n",
       "      <td>135.38</td>\n",
       "      <td>1</td>\n",
       "      <td>6</td>\n",
       "      <td>49</td>\n",
       "      <td>25</td>\n",
       "    </tr>\n",
       "    <tr>\n",
       "      <th>2</th>\n",
       "      <td>Quinton de Kock</td>\n",
       "      <td>16</td>\n",
       "      <td>16</td>\n",
       "      <td>1</td>\n",
       "      <td>529</td>\n",
       "      <td>81</td>\n",
       "      <td>35.26</td>\n",
       "      <td>398</td>\n",
       "      <td>132.91</td>\n",
       "      <td>0</td>\n",
       "      <td>4</td>\n",
       "      <td>45</td>\n",
       "      <td>25</td>\n",
       "    </tr>\n",
       "    <tr>\n",
       "      <th>3</th>\n",
       "      <td>Shikhar Dhawan</td>\n",
       "      <td>16</td>\n",
       "      <td>16</td>\n",
       "      <td>1</td>\n",
       "      <td>521</td>\n",
       "      <td>97*</td>\n",
       "      <td>34.73</td>\n",
       "      <td>384</td>\n",
       "      <td>135.67</td>\n",
       "      <td>0</td>\n",
       "      <td>5</td>\n",
       "      <td>64</td>\n",
       "      <td>11</td>\n",
       "    </tr>\n",
       "    <tr>\n",
       "      <th>4</th>\n",
       "      <td>Andre Russell</td>\n",
       "      <td>14</td>\n",
       "      <td>13</td>\n",
       "      <td>4</td>\n",
       "      <td>510</td>\n",
       "      <td>80*</td>\n",
       "      <td>56.66</td>\n",
       "      <td>249</td>\n",
       "      <td>204.81</td>\n",
       "      <td>0</td>\n",
       "      <td>4</td>\n",
       "      <td>31</td>\n",
       "      <td>52</td>\n",
       "    </tr>\n",
       "  </tbody>\n",
       "</table>\n",
       "</div>"
      ],
      "text/plain": [
       "            PLAYER  Mat  Inns  NO  2019_Runs    HS    Avg   BF      SR  100  \\\n",
       "0     David Warner   12    12   2        692  100*   69.2  481  143.86    1   \n",
       "1         KL Rahul   14    14   3        593  100*   53.9  438  135.38    1   \n",
       "2  Quinton de Kock   16    16   1        529    81  35.26  398  132.91    0   \n",
       "3   Shikhar Dhawan   16    16   1        521   97*  34.73  384  135.67    0   \n",
       "4    Andre Russell   14    13   4        510   80*  56.66  249  204.81    0   \n",
       "\n",
       "   50  4s  6s  \n",
       "0   8  57  21  \n",
       "1   6  49  25  \n",
       "2   4  45  25  \n",
       "3   5  64  11  \n",
       "4   4  31  52  "
      ]
     },
     "execution_count": 150,
     "metadata": {},
     "output_type": "execute_result"
    }
   ],
   "source": [
    "test_data.head()"
   ]
  },
  {
   "cell_type": "code",
   "execution_count": 151,
   "metadata": {},
   "outputs": [
    {
     "data": {
      "text/plain": [
       "PLAYER        object\n",
       "Mat            int64\n",
       "Inns           int64\n",
       "NO             int64\n",
       "2019_Runs      int64\n",
       "HS            object\n",
       "Avg           object\n",
       "BF             int64\n",
       "SR           float64\n",
       "100            int64\n",
       "50             int64\n",
       "4s             int64\n",
       "6s             int64\n",
       "dtype: object"
      ]
     },
     "execution_count": 151,
     "metadata": {},
     "output_type": "execute_result"
    }
   ],
   "source": [
    "test_data.dtypes"
   ]
  },
  {
   "cell_type": "markdown",
   "metadata": {},
   "source": [
    "#### Converting the test dataset into readable format"
   ]
  },
  {
   "cell_type": "code",
   "execution_count": 152,
   "metadata": {},
   "outputs": [
    {
     "name": "stderr",
     "output_type": "stream",
     "text": [
      "C:\\Users\\HP\\anaconda3\\lib\\site-packages\\ipykernel_launcher.py:4: SettingWithCopyWarning: \n",
      "A value is trying to be set on a copy of a slice from a DataFrame\n",
      "\n",
      "See the caveats in the documentation: https://pandas.pydata.org/pandas-docs/stable/user_guide/indexing.html#returning-a-view-versus-a-copy\n",
      "  after removing the cwd from sys.path.\n"
     ]
    }
   ],
   "source": [
    "j=0\n",
    "for i in test_data[\"Avg\"]:\n",
    "    if i=='-':\n",
    "        test_data[\"Avg\"][j]=0\n",
    "    j=j+1\n",
    "        "
   ]
  },
  {
   "cell_type": "code",
   "execution_count": 154,
   "metadata": {},
   "outputs": [],
   "source": [
    "test_data[\"Avg\"]=test_data[\"Avg\"].astype(str).astype(float)"
   ]
  },
  {
   "cell_type": "code",
   "execution_count": 155,
   "metadata": {},
   "outputs": [
    {
     "name": "stderr",
     "output_type": "stream",
     "text": [
      "C:\\Users\\HP\\anaconda3\\lib\\site-packages\\ipykernel_launcher.py:3: SettingWithCopyWarning: \n",
      "A value is trying to be set on a copy of a slice from a DataFrame\n",
      "\n",
      "See the caveats in the documentation: https://pandas.pydata.org/pandas-docs/stable/user_guide/indexing.html#returning-a-view-versus-a-copy\n",
      "  This is separate from the ipykernel package so we can avoid doing imports until\n"
     ]
    }
   ],
   "source": [
    "j=0\n",
    "for i in test_data[\"HS\"]:\n",
    "    test_data[\"HS\"][j]=re.findall('\\d+',str(i))[0]\n",
    "    j=j+1"
   ]
  },
  {
   "cell_type": "code",
   "execution_count": 156,
   "metadata": {},
   "outputs": [],
   "source": [
    "test_data[\"HS\"]=test_data[\"HS\"].astype(str).astype(int)"
   ]
  },
  {
   "cell_type": "code",
   "execution_count": 157,
   "metadata": {},
   "outputs": [
    {
     "data": {
      "text/plain": [
       "PLAYER        object\n",
       "Mat            int64\n",
       "Inns           int64\n",
       "NO             int64\n",
       "2019_Runs      int64\n",
       "HS             int32\n",
       "Avg          float64\n",
       "BF             int64\n",
       "SR           float64\n",
       "100            int64\n",
       "50             int64\n",
       "4s             int64\n",
       "6s             int64\n",
       "dtype: object"
      ]
     },
     "execution_count": 157,
     "metadata": {},
     "output_type": "execute_result"
    }
   ],
   "source": [
    "test_data.dtypes"
   ]
  },
  {
   "cell_type": "code",
   "execution_count": 158,
   "metadata": {},
   "outputs": [],
   "source": [
    "X_test=np.array(test_data[[\"SR\",\"2019_Runs\",\"Avg\",\"HS\",\"BF\",\"NO\",100,50,\"4s\",\"6s\",\"Inns\",\"Mat\"]])"
   ]
  },
  {
   "cell_type": "code",
   "execution_count": 163,
   "metadata": {},
   "outputs": [],
   "source": [
    "prediction=model.predict(X_test) \n",
    "p=[int(i) for i in list(prediction)] \n",
    "j=0\n",
    "for i in p:\n",
    "    if i<0:\n",
    "        p[j]=0\n",
    "    j=j+1\n",
    "        "
   ]
  },
  {
   "cell_type": "code",
   "execution_count": 164,
   "metadata": {},
   "outputs": [],
   "source": [
    "players=test_data[\"PLAYER\"]\n",
    "Predicted_Scores_2020=p"
   ]
  },
  {
   "cell_type": "code",
   "execution_count": 165,
   "metadata": {},
   "outputs": [
    {
     "data": {
      "text/html": [
       "<div>\n",
       "<style scoped>\n",
       "    .dataframe tbody tr th:only-of-type {\n",
       "        vertical-align: middle;\n",
       "    }\n",
       "\n",
       "    .dataframe tbody tr th {\n",
       "        vertical-align: top;\n",
       "    }\n",
       "\n",
       "    .dataframe thead th {\n",
       "        text-align: right;\n",
       "    }\n",
       "</style>\n",
       "<table border=\"1\" class=\"dataframe\">\n",
       "  <thead>\n",
       "    <tr style=\"text-align: right;\">\n",
       "      <th></th>\n",
       "      <th>PLAYERS</th>\n",
       "      <th>2020_Runs</th>\n",
       "    </tr>\n",
       "  </thead>\n",
       "  <tbody>\n",
       "    <tr>\n",
       "      <th>0</th>\n",
       "      <td>David Warner</td>\n",
       "      <td>585</td>\n",
       "    </tr>\n",
       "    <tr>\n",
       "      <th>1</th>\n",
       "      <td>KL Rahul</td>\n",
       "      <td>527</td>\n",
       "    </tr>\n",
       "    <tr>\n",
       "      <th>2</th>\n",
       "      <td>Quinton de Kock</td>\n",
       "      <td>519</td>\n",
       "    </tr>\n",
       "    <tr>\n",
       "      <th>3</th>\n",
       "      <td>Shikhar Dhawan</td>\n",
       "      <td>479</td>\n",
       "    </tr>\n",
       "    <tr>\n",
       "      <th>4</th>\n",
       "      <td>Andre Russell</td>\n",
       "      <td>482</td>\n",
       "    </tr>\n",
       "    <tr>\n",
       "      <th>...</th>\n",
       "      <td>...</td>\n",
       "      <td>...</td>\n",
       "    </tr>\n",
       "    <tr>\n",
       "      <th>95</th>\n",
       "      <td>Carlos Brathwaite</td>\n",
       "      <td>7</td>\n",
       "    </tr>\n",
       "    <tr>\n",
       "      <th>96</th>\n",
       "      <td>Ishant Sharma</td>\n",
       "      <td>0</td>\n",
       "    </tr>\n",
       "    <tr>\n",
       "      <th>97</th>\n",
       "      <td>Shakib Al Hasan</td>\n",
       "      <td>3</td>\n",
       "    </tr>\n",
       "    <tr>\n",
       "      <th>98</th>\n",
       "      <td>Pawan Negi</td>\n",
       "      <td>12</td>\n",
       "    </tr>\n",
       "    <tr>\n",
       "      <th>99</th>\n",
       "      <td>Tim Southee</td>\n",
       "      <td>1</td>\n",
       "    </tr>\n",
       "  </tbody>\n",
       "</table>\n",
       "<p>100 rows × 2 columns</p>\n",
       "</div>"
      ],
      "text/plain": [
       "              PLAYERS  2020_Runs\n",
       "0        David Warner        585\n",
       "1            KL Rahul        527\n",
       "2     Quinton de Kock        519\n",
       "3      Shikhar Dhawan        479\n",
       "4       Andre Russell        482\n",
       "..                ...        ...\n",
       "95  Carlos Brathwaite          7\n",
       "96      Ishant Sharma          0\n",
       "97    Shakib Al Hasan          3\n",
       "98         Pawan Negi         12\n",
       "99        Tim Southee          1\n",
       "\n",
       "[100 rows x 2 columns]"
      ]
     },
     "execution_count": 165,
     "metadata": {},
     "output_type": "execute_result"
    }
   ],
   "source": [
    "df = pd.DataFrame(list(zip(players, Predicted_Scores_2020)), columns =['PLAYERS', '2020_Runs']) \n",
    "df "
   ]
  },
  {
   "cell_type": "markdown",
   "metadata": {},
   "source": [
    "Saving the results in csv format"
   ]
  },
  {
   "cell_type": "code",
   "execution_count": 167,
   "metadata": {},
   "outputs": [],
   "source": [
    "df.to_csv(r\"C:\\Users\\HP\\Downloads\\predicted_2020_ipl_run.csv\")"
   ]
  },
  {
   "cell_type": "code",
   "execution_count": null,
   "metadata": {},
   "outputs": [],
   "source": []
  }
 ],
 "metadata": {
  "kernelspec": {
   "display_name": "Python 3",
   "language": "python",
   "name": "python3"
  },
  "language_info": {
   "codemirror_mode": {
    "name": "ipython",
    "version": 3
   },
   "file_extension": ".py",
   "mimetype": "text/x-python",
   "name": "python",
   "nbconvert_exporter": "python",
   "pygments_lexer": "ipython3",
   "version": "3.7.6"
  }
 },
 "nbformat": 4,
 "nbformat_minor": 4
}
